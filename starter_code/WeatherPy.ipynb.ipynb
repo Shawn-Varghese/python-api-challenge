{
 "cells": [
  {
   "cell_type": "markdown",
   "metadata": {},
   "source": [
    "# WeatherPy\n",
    "----\n",
    "\n",
    "#### Note\n",
    "* Instructions have been included for each segment. You do not have to follow them exactly, but they are included to help you think through the steps."
   ]
  },
  {
   "cell_type": "code",
   "execution_count": 1,
   "metadata": {
    "scrolled": true
   },
   "outputs": [],
   "source": [
    "# Dependencies and Setup\n",
    "import matplotlib.pyplot as plt\n",
    "import pandas as pd\n",
    "import numpy as np\n",
    "import requests\n",
    "import time\n",
    "from scipy.stats import linregress\n",
    "import json\n",
    "\n",
    "# Import API key\n",
    "from api_keys import weather_api_key\n",
    "units = \"imperial\"\n",
    "\n",
    "# Incorporated citipy to determine city based on latitude and longitude\n",
    "from citipy import citipy\n",
    "\n",
    "# Output File (CSV)\n",
    "output_data_file = \"output_data/cities.csv\"\n",
    "\n",
    "# Range of latitudes and longitudes\n",
    "lat_range = (-90, 90)\n",
    "lng_range = (-180, 180)\n",
    "\n",
    "query_url = f\"http://api.openweathermap.org/data/2.5/weather?appid={weather_api_key}&units={units}&q=\""
   ]
  },
  {
   "cell_type": "code",
   "execution_count": 2,
   "metadata": {},
   "outputs": [
    {
     "name": "stdout",
     "output_type": "stream",
     "text": [
      "<module 'citipy.citipy' from 'C:\\\\Users\\\\shawn\\\\anaconda3\\\\lib\\\\site-packages\\\\citipy\\\\citipy.py'>\n",
      "output_data/cities.csv\n"
     ]
    }
   ],
   "source": [
    "print(citipy)\n",
    "print(output_data_file)"
   ]
  },
  {
   "cell_type": "markdown",
   "metadata": {},
   "source": [
    "## Generate Cities List"
   ]
  },
  {
   "cell_type": "code",
   "execution_count": 3,
   "metadata": {},
   "outputs": [
    {
     "data": {
      "text/plain": [
       "621"
      ]
     },
     "execution_count": 3,
     "metadata": {},
     "output_type": "execute_result"
    }
   ],
   "source": [
    "# List for holding lat_lngs and cities\n",
    "lat_lngs = []\n",
    "cities = []\n",
    "\n",
    "# Create a set of random lat and lng combinations\n",
    "lats = np.random.uniform(lat_range[0], lat_range[1], size=1500)\n",
    "lngs = np.random.uniform(lng_range[0], lng_range[1], size=1500)\n",
    "lat_lngs = zip(lats, lngs)\n",
    "\n",
    "# Identify nearest city for each lat, lng combination\n",
    "for lat_lng in lat_lngs:\n",
    "    city = citipy.nearest_city(lat_lng[0], lat_lng[1]).city_name\n",
    "    \n",
    "    # If the city is unique, then add it to a our cities list\n",
    "    if city not in cities:\n",
    "        cities.append(city)\n",
    "\n",
    "# Print the city count to confirm sufficient count\n",
    "len(cities)"
   ]
  },
  {
   "cell_type": "code",
   "execution_count": 4,
   "metadata": {},
   "outputs": [
    {
     "name": "stdout",
     "output_type": "stream",
     "text": [
      "{\n",
      "    \"base\": \"stations\",\n",
      "    \"clouds\": {\n",
      "        \"all\": 81\n",
      "    },\n",
      "    \"cod\": 200,\n",
      "    \"coord\": {\n",
      "        \"lat\": -17.9333,\n",
      "        \"lon\": 19.7667\n",
      "    },\n",
      "    \"dt\": 1652652514,\n",
      "    \"id\": 3353383,\n",
      "    \"main\": {\n",
      "        \"feels_like\": 63.05,\n",
      "        \"grnd_level\": 896,\n",
      "        \"humidity\": 39,\n",
      "        \"pressure\": 1019,\n",
      "        \"sea_level\": 1019,\n",
      "        \"temp\": 65.01,\n",
      "        \"temp_max\": 65.01,\n",
      "        \"temp_min\": 65.01\n",
      "    },\n",
      "    \"name\": \"Rundu\",\n",
      "    \"sys\": {\n",
      "        \"country\": \"NA\",\n",
      "        \"sunrise\": 1652677163,\n",
      "        \"sunset\": 1652717724\n",
      "    },\n",
      "    \"timezone\": 7200,\n",
      "    \"visibility\": 10000,\n",
      "    \"weather\": [\n",
      "        {\n",
      "            \"description\": \"broken clouds\",\n",
      "            \"icon\": \"04n\",\n",
      "            \"id\": 803,\n",
      "            \"main\": \"Clouds\"\n",
      "        }\n",
      "    ],\n",
      "    \"wind\": {\n",
      "        \"deg\": 87,\n",
      "        \"gust\": 9.31,\n",
      "        \"speed\": 5.48\n",
      "    }\n",
      "}\n"
     ]
    }
   ],
   "source": [
    "response = requests.get(query_url + city.replace(\" \",\"&\")).json()\n",
    "print(json.dumps(response, indent=4, sort_keys=True))"
   ]
  },
  {
   "cell_type": "markdown",
   "metadata": {},
   "source": [
    "### Perform API Calls\n",
    "* Perform a weather check on each city using a series of successive API calls.\n",
    "* Include a print log of each city as it'sbeing processed (with the city number and city name).\n",
    "\n",
    "> **HINT:** The OpenWeatherMap API only allows 60 calls per minute under their free plan. Try using `time.sleep(60)` after each set of 50 cities to avoid API errors due to large calls."
   ]
  },
  {
   "cell_type": "code",
   "execution_count": 5,
   "metadata": {},
   "outputs": [
    {
     "name": "stdout",
     "output_type": "stream",
     "text": [
      "Processing Record 1 of Set 1 | hobart\n",
      "Processing Record 2 of Set 1 | vardo\n",
      "Processing Record 3 of Set 1 | avarua\n",
      "Cant find city. Skipping...\n",
      "Processing Record 4 of Set 1 | albany\n",
      "Processing Record 5 of Set 1 | donghai\n",
      "Processing Record 6 of Set 1 | new norfolk\n",
      "Processing Record 7 of Set 1 | kapaa\n",
      "Cant find city. Skipping...\n",
      "Cant find city. Skipping...\n",
      "Processing Record 8 of Set 1 | iqaluit\n",
      "Processing Record 9 of Set 1 | mlonggo\n",
      "Processing Record 10 of Set 1 | tasiilaq\n",
      "Processing Record 11 of Set 1 | ushuaia\n",
      "Processing Record 12 of Set 1 | rikitea\n",
      "Processing Record 13 of Set 1 | allende\n",
      "Processing Record 14 of Set 1 | butaritari\n",
      "Processing Record 15 of Set 1 | chapais\n",
      "Processing Record 16 of Set 1 | nikolskoye\n",
      "Processing Record 17 of Set 1 | busselton\n",
      "Processing Record 18 of Set 1 | khatanga\n",
      "Processing Record 19 of Set 1 | yellowknife\n",
      "Processing Record 20 of Set 1 | elizabeth city\n",
      "Processing Record 21 of Set 1 | hilo\n",
      "Processing Record 22 of Set 1 | cape town\n",
      "Processing Record 23 of Set 1 | punta arenas\n",
      "Processing Record 24 of Set 1 | mount isa\n",
      "Processing Record 25 of Set 1 | lebu\n",
      "Processing Record 26 of Set 1 | atar\n",
      "Processing Record 27 of Set 1 | shimoda\n",
      "Processing Record 28 of Set 1 | port-gentil\n",
      "Processing Record 29 of Set 1 | vila velha\n",
      "Processing Record 30 of Set 1 | meulaboh\n",
      "Processing Record 31 of Set 1 | olafsvik\n",
      "Processing Record 32 of Set 1 | upernavik\n",
      "Processing Record 33 of Set 1 | haines junction\n",
      "Processing Record 34 of Set 1 | mataura\n",
      "Processing Record 35 of Set 1 | sitka\n",
      "Processing Record 36 of Set 1 | atocha\n",
      "Processing Record 37 of Set 1 | bethel\n",
      "Processing Record 38 of Set 1 | yulara\n",
      "Processing Record 39 of Set 1 | dikson\n",
      "Cant find city. Skipping...\n",
      "Processing Record 40 of Set 1 | cherkasskoye\n",
      "Processing Record 41 of Set 1 | qaqortoq\n",
      "Cant find city. Skipping...\n",
      "Processing Record 42 of Set 1 | barrow\n",
      "Processing Record 43 of Set 1 | mayo\n",
      "Processing Record 44 of Set 1 | ikom\n",
      "Processing Record 45 of Set 1 | puerto ayora\n",
      "Cant find city. Skipping...\n",
      "Processing Record 46 of Set 1 | marinette\n",
      "Processing Record 47 of Set 1 | mahebourg\n",
      "Processing Record 48 of Set 1 | kousseri\n",
      "Processing Record 49 of Set 1 | saint-philippe\n",
      "Processing Record 1 of Set 2 | east london\n",
      "Processing Record 2 of Set 2 | provideniya\n",
      "Processing Record 3 of Set 2 | pacific grove\n",
      "Processing Record 4 of Set 2 | grand river south east\n",
      "Processing Record 5 of Set 2 | kiunga\n",
      "Cant find city. Skipping...\n",
      "Processing Record 6 of Set 2 | vila\n",
      "Processing Record 7 of Set 2 | puerto baquerizo moreno\n",
      "Cant find city. Skipping...\n",
      "Processing Record 8 of Set 2 | ahipara\n",
      "Processing Record 9 of Set 2 | waiouru\n",
      "Processing Record 10 of Set 2 | bredasdorp\n",
      "Processing Record 11 of Set 2 | port moresby\n",
      "Processing Record 12 of Set 2 | mar del plata\n",
      "Processing Record 13 of Set 2 | tuktoyaktuk\n",
      "Processing Record 14 of Set 2 | kavieng\n",
      "Processing Record 15 of Set 2 | yavaros\n",
      "Processing Record 16 of Set 2 | srandakan\n",
      "Processing Record 17 of Set 2 | madang\n",
      "Processing Record 18 of Set 2 | port alfred\n",
      "Processing Record 19 of Set 2 | hermanus\n",
      "Processing Record 20 of Set 2 | nome\n",
      "Processing Record 21 of Set 2 | merauke\n",
      "Processing Record 22 of Set 2 | chuy\n",
      "Processing Record 23 of Set 2 | severo-kurilsk\n",
      "Processing Record 24 of Set 2 | faya\n",
      "Processing Record 25 of Set 2 | hithadhoo\n",
      "Processing Record 26 of Set 2 | luderitz\n",
      "Processing Record 27 of Set 2 | vestmannaeyjar\n",
      "Processing Record 28 of Set 2 | sao luis do quitunde\n",
      "Processing Record 29 of Set 2 | korla\n",
      "Processing Record 30 of Set 2 | seoul\n",
      "Processing Record 31 of Set 2 | kitami\n",
      "Processing Record 32 of Set 2 | zaigrayevo\n",
      "Processing Record 33 of Set 2 | cabo san lucas\n",
      "Processing Record 34 of Set 2 | vaini\n",
      "Processing Record 35 of Set 2 | verkhoyansk\n",
      "Processing Record 36 of Set 2 | coquimbo\n",
      "Processing Record 37 of Set 2 | qaanaaq\n",
      "Processing Record 38 of Set 2 | bluff\n",
      "Processing Record 39 of Set 2 | varniai\n",
      "Processing Record 40 of Set 2 | maracaibo\n",
      "Processing Record 41 of Set 2 | tiksi\n",
      "Processing Record 42 of Set 2 | guider\n",
      "Processing Record 43 of Set 2 | kaitangata\n",
      "Processing Record 44 of Set 2 | litovko\n",
      "Processing Record 45 of Set 2 | mitsamiouli\n",
      "Processing Record 46 of Set 2 | katiola\n",
      "Processing Record 47 of Set 2 | murgab\n",
      "Processing Record 48 of Set 2 | san cristobal\n",
      "Processing Record 49 of Set 2 | gamboma\n",
      "Cant find city. Skipping...\n",
      "Processing Record 1 of Set 3 | cuitareo\n",
      "Processing Record 2 of Set 3 | pallasovka\n",
      "Processing Record 3 of Set 3 | martapura\n",
      "Processing Record 4 of Set 3 | horadiz\n",
      "Processing Record 5 of Set 3 | wuwei\n",
      "Cant find city. Skipping...\n",
      "Cant find city. Skipping...\n",
      "Processing Record 6 of Set 3 | port hedland\n",
      "Processing Record 7 of Set 3 | saskylakh\n",
      "Processing Record 8 of Set 3 | gizo\n",
      "Processing Record 9 of Set 3 | arraial do cabo\n",
      "Processing Record 10 of Set 3 | airai\n",
      "Processing Record 11 of Set 3 | fortuna\n",
      "Processing Record 12 of Set 3 | torbay\n",
      "Processing Record 13 of Set 3 | ostrovnoy\n",
      "Processing Record 14 of Set 3 | bratsk\n",
      "Processing Record 15 of Set 3 | taoudenni\n",
      "Processing Record 16 of Set 3 | east massapequa\n",
      "Processing Record 17 of Set 3 | bindi\n",
      "Processing Record 18 of Set 3 | fare\n",
      "Processing Record 19 of Set 3 | ponta delgada\n",
      "Processing Record 20 of Set 3 | pisco\n",
      "Processing Record 21 of Set 3 | bilibino\n",
      "Processing Record 22 of Set 3 | mys shmidta\n",
      "Processing Record 23 of Set 3 | kahului\n",
      "Cant find city. Skipping...\n",
      "Processing Record 24 of Set 3 | bukachacha\n",
      "Processing Record 25 of Set 3 | thompson\n",
      "Processing Record 26 of Set 3 | norman wells\n",
      "Cant find city. Skipping...\n",
      "Processing Record 27 of Set 3 | zhangye\n",
      "Processing Record 28 of Set 3 | jamestown\n",
      "Processing Record 29 of Set 3 | ewo\n",
      "Processing Record 30 of Set 3 | leningradskiy\n",
      "Processing Record 31 of Set 3 | kuldur\n",
      "Processing Record 32 of Set 3 | chilia veche\n",
      "Processing Record 33 of Set 3 | ouadda\n",
      "Processing Record 34 of Set 3 | richard toll\n",
      "Processing Record 35 of Set 3 | port elizabeth\n",
      "Processing Record 36 of Set 3 | manado\n",
      "Processing Record 37 of Set 3 | saint-pierre\n",
      "Processing Record 38 of Set 3 | kodiak\n",
      "Processing Record 39 of Set 3 | coihaique\n",
      "Processing Record 40 of Set 3 | touros\n",
      "Processing Record 41 of Set 3 | mandalgovi\n",
      "Processing Record 42 of Set 3 | castro\n",
      "Processing Record 43 of Set 3 | samarai\n",
      "Processing Record 44 of Set 3 | lynden\n",
      "Processing Record 45 of Set 3 | phayao\n",
      "Processing Record 46 of Set 3 | solwezi\n",
      "Processing Record 47 of Set 3 | carnarvon\n",
      "Processing Record 48 of Set 3 | karratha\n",
      "Processing Record 49 of Set 3 | mendi\n",
      "Processing Record 1 of Set 4 | zhuhai\n",
      "Processing Record 2 of Set 4 | leshukonskoye\n",
      "Processing Record 3 of Set 4 | belmonte\n",
      "Processing Record 4 of Set 4 | ribeira grande\n",
      "Processing Record 5 of Set 4 | yuci\n",
      "Processing Record 6 of Set 4 | teguldet\n",
      "Processing Record 7 of Set 4 | tuatapere\n",
      "Processing Record 8 of Set 4 | emerald\n",
      "Processing Record 9 of Set 4 | georgetown\n",
      "Cant find city. Skipping...\n",
      "Processing Record 10 of Set 4 | hamilton\n",
      "Processing Record 11 of Set 4 | atuona\n",
      "Processing Record 12 of Set 4 | ancud\n",
      "Processing Record 13 of Set 4 | fairbanks\n",
      "Processing Record 14 of Set 4 | okha\n",
      "Processing Record 15 of Set 4 | huarmey\n",
      "Cant find city. Skipping...\n",
      "Processing Record 16 of Set 4 | katsuura\n",
      "Processing Record 17 of Set 4 | bambous virieux\n",
      "Processing Record 18 of Set 4 | cayenne\n",
      "Processing Record 19 of Set 4 | chokurdakh\n",
      "Processing Record 20 of Set 4 | hambantota\n",
      "Processing Record 21 of Set 4 | nogliki\n",
      "Processing Record 22 of Set 4 | tupiza\n",
      "Processing Record 23 of Set 4 | cherskiy\n",
      "Processing Record 24 of Set 4 | laguna\n",
      "Processing Record 25 of Set 4 | ponta do sol\n",
      "Processing Record 26 of Set 4 | haimen\n",
      "Processing Record 27 of Set 4 | kendari\n",
      "Processing Record 28 of Set 4 | wadi musa\n",
      "Processing Record 29 of Set 4 | puerto del rosario\n",
      "Processing Record 30 of Set 4 | pingliang\n",
      "Processing Record 31 of Set 4 | tual\n",
      "Processing Record 32 of Set 4 | key west\n",
      "Processing Record 33 of Set 4 | assiniboia\n",
      "Processing Record 34 of Set 4 | vila franca do campo\n",
      "Cant find city. Skipping...\n",
      "Processing Record 35 of Set 4 | pevek\n",
      "Processing Record 36 of Set 4 | galesong\n",
      "Processing Record 37 of Set 4 | tecoanapa\n",
      "Cant find city. Skipping...\n",
      "Processing Record 38 of Set 4 | longyearbyen\n",
      "Processing Record 39 of Set 4 | alice springs\n",
      "Processing Record 40 of Set 4 | ketchikan\n"
     ]
    },
    {
     "name": "stdout",
     "output_type": "stream",
     "text": [
      "Processing Record 41 of Set 4 | broome\n",
      "Processing Record 42 of Set 4 | jamnagar\n",
      "Cant find city. Skipping...\n",
      "Processing Record 43 of Set 4 | lipin bor\n",
      "Processing Record 44 of Set 4 | jaisalmer\n",
      "Processing Record 45 of Set 4 | sao joao da barra\n",
      "Processing Record 46 of Set 4 | dingle\n",
      "Processing Record 47 of Set 4 | ust-barguzin\n",
      "Processing Record 48 of Set 4 | vanimo\n",
      "Processing Record 49 of Set 4 | pangnirtung\n",
      "Cant find city. Skipping...\n",
      "Processing Record 1 of Set 5 | ciucea\n",
      "Processing Record 2 of Set 5 | alta floresta\n",
      "Processing Record 3 of Set 5 | paralimni\n",
      "Processing Record 4 of Set 5 | anadyr\n",
      "Processing Record 5 of Set 5 | soubre\n",
      "Processing Record 6 of Set 5 | antofagasta\n",
      "Processing Record 7 of Set 5 | tezu\n",
      "Processing Record 8 of Set 5 | pastavy\n",
      "Processing Record 9 of Set 5 | songjianghe\n",
      "Processing Record 10 of Set 5 | beloha\n",
      "Processing Record 11 of Set 5 | lubango\n",
      "Processing Record 12 of Set 5 | hami\n",
      "Processing Record 13 of Set 5 | wattegama\n",
      "Processing Record 14 of Set 5 | suez\n",
      "Processing Record 15 of Set 5 | flinders\n",
      "Processing Record 16 of Set 5 | chippewa falls\n",
      "Processing Record 17 of Set 5 | sayansk\n",
      "Processing Record 18 of Set 5 | guerrero negro\n",
      "Processing Record 19 of Set 5 | riyadh\n",
      "Processing Record 20 of Set 5 | kalemie\n",
      "Cant find city. Skipping...\n",
      "Processing Record 21 of Set 5 | oltedal\n",
      "Processing Record 22 of Set 5 | kavaratti\n",
      "Cant find city. Skipping...\n",
      "Processing Record 23 of Set 5 | mankachar\n",
      "Processing Record 24 of Set 5 | yongan\n",
      "Processing Record 25 of Set 5 | lixourion\n",
      "Processing Record 26 of Set 5 | mildura\n",
      "Processing Record 27 of Set 5 | talnakh\n",
      "Processing Record 28 of Set 5 | rivadavia\n",
      "Processing Record 29 of Set 5 | casa branca\n",
      "Processing Record 30 of Set 5 | kallaste\n",
      "Processing Record 31 of Set 5 | evensk\n",
      "Processing Record 32 of Set 5 | vostok\n",
      "Processing Record 33 of Set 5 | kruisfontein\n",
      "Processing Record 34 of Set 5 | nyurba\n",
      "Processing Record 35 of Set 5 | aklavik\n",
      "Processing Record 36 of Set 5 | kaniama\n",
      "Processing Record 37 of Set 5 | vandavasi\n",
      "Processing Record 38 of Set 5 | dunedin\n",
      "Processing Record 39 of Set 5 | mao\n",
      "Processing Record 40 of Set 5 | taloqan\n",
      "Processing Record 41 of Set 5 | tutoia\n",
      "Processing Record 42 of Set 5 | sawakin\n",
      "Cant find city. Skipping...\n",
      "Processing Record 43 of Set 5 | naze\n",
      "Cant find city. Skipping...\n",
      "Processing Record 44 of Set 5 | mitu\n",
      "Cant find city. Skipping...\n",
      "Processing Record 45 of Set 5 | geraldton\n",
      "Processing Record 46 of Set 5 | banda aceh\n",
      "Cant find city. Skipping...\n",
      "Processing Record 47 of Set 5 | jian\n",
      "Processing Record 48 of Set 5 | rio gallegos\n",
      "Processing Record 49 of Set 5 | phan rang\n",
      "Processing Record 1 of Set 6 | koindu\n",
      "Processing Record 2 of Set 6 | camacha\n",
      "Processing Record 3 of Set 6 | lata\n",
      "Processing Record 4 of Set 6 | grande riviere du nord\n",
      "Processing Record 5 of Set 6 | victoria\n",
      "Processing Record 6 of Set 6 | feijo\n",
      "Cant find city. Skipping...\n",
      "Processing Record 7 of Set 6 | salalah\n",
      "Processing Record 8 of Set 6 | mozelos\n",
      "Processing Record 9 of Set 6 | nichinan\n",
      "Processing Record 10 of Set 6 | muroto\n",
      "Processing Record 11 of Set 6 | majene\n",
      "Processing Record 12 of Set 6 | garden city\n",
      "Cant find city. Skipping...\n",
      "Processing Record 13 of Set 6 | krasnoselkup\n",
      "Processing Record 14 of Set 6 | port hardy\n",
      "Processing Record 15 of Set 6 | husavik\n",
      "Processing Record 16 of Set 6 | nipawin\n",
      "Processing Record 17 of Set 6 | lewiston\n",
      "Processing Record 18 of Set 6 | beira\n",
      "Processing Record 19 of Set 6 | murray\n",
      "Processing Record 20 of Set 6 | shymkent\n",
      "Processing Record 21 of Set 6 | lampa\n",
      "Processing Record 22 of Set 6 | isangel\n",
      "Processing Record 23 of Set 6 | port blair\n",
      "Processing Record 24 of Set 6 | acatlan\n",
      "Processing Record 25 of Set 6 | souillac\n",
      "Processing Record 26 of Set 6 | bandarbeyla\n",
      "Processing Record 27 of Set 6 | cururupu\n",
      "Processing Record 28 of Set 6 | san carlos de bariloche\n",
      "Processing Record 29 of Set 6 | naliya\n",
      "Processing Record 30 of Set 6 | pradopolis\n",
      "Processing Record 31 of Set 6 | shiyan\n",
      "Cant find city. Skipping...\n",
      "Processing Record 32 of Set 6 | sao filipe\n",
      "Processing Record 33 of Set 6 | komsomolskiy\n",
      "Processing Record 34 of Set 6 | college\n",
      "Processing Record 35 of Set 6 | lopatino\n",
      "Processing Record 36 of Set 6 | narsaq\n",
      "Processing Record 37 of Set 6 | kardla\n",
      "Processing Record 38 of Set 6 | grand gaube\n",
      "Processing Record 39 of Set 6 | bathsheba\n",
      "Cant find city. Skipping...\n",
      "Processing Record 40 of Set 6 | tabuk\n",
      "Cant find city. Skipping...\n",
      "Processing Record 41 of Set 6 | san patricio\n",
      "Processing Record 42 of Set 6 | kijang\n",
      "Processing Record 43 of Set 6 | campina verde\n",
      "Processing Record 44 of Set 6 | arcelia\n",
      "Processing Record 45 of Set 6 | ler\n",
      "Processing Record 46 of Set 6 | lakeway\n",
      "Processing Record 47 of Set 6 | boa esperanca\n",
      "Processing Record 48 of Set 6 | mutata\n",
      "Processing Record 49 of Set 6 | maniitsoq\n",
      "Processing Record 1 of Set 7 | cidreira\n",
      "Processing Record 2 of Set 7 | lagoa\n",
      "Processing Record 3 of Set 7 | swift current\n",
      "Processing Record 4 of Set 7 | launceston\n",
      "Processing Record 5 of Set 7 | faanui\n",
      "Cant find city. Skipping...\n",
      "Cant find city. Skipping...\n",
      "Cant find city. Skipping...\n",
      "Processing Record 6 of Set 7 | grand centre\n",
      "Processing Record 7 of Set 7 | jilib\n",
      "Cant find city. Skipping...\n",
      "Processing Record 8 of Set 7 | nisia floresta\n",
      "Processing Record 9 of Set 7 | half moon bay\n",
      "Cant find city. Skipping...\n",
      "Cant find city. Skipping...\n",
      "Processing Record 10 of Set 7 | namibe\n",
      "Processing Record 11 of Set 7 | rudsar\n",
      "Cant find city. Skipping...\n",
      "Processing Record 12 of Set 7 | maragogi\n",
      "Processing Record 13 of Set 7 | zhanaozen\n",
      "Processing Record 14 of Set 7 | formosa do rio preto\n",
      "Processing Record 15 of Set 7 | tuy hoa\n",
      "Processing Record 16 of Set 7 | luanda\n",
      "Processing Record 17 of Set 7 | nemuro\n",
      "Processing Record 18 of Set 7 | aksarka\n",
      "Cant find city. Skipping...\n",
      "Processing Record 19 of Set 7 | alegrete\n",
      "Processing Record 20 of Set 7 | alyangula\n",
      "Processing Record 21 of Set 7 | halmstad\n",
      "Processing Record 22 of Set 7 | jundiai\n",
      "Processing Record 23 of Set 7 | udalguri\n",
      "Processing Record 24 of Set 7 | coahuayana\n",
      "Processing Record 25 of Set 7 | ayagoz\n",
      "Processing Record 26 of Set 7 | les cayes\n",
      "Cant find city. Skipping...\n",
      "Processing Record 27 of Set 7 | culebra\n",
      "Processing Record 28 of Set 7 | bhusawal\n",
      "Cant find city. Skipping...\n",
      "Processing Record 29 of Set 7 | belaya gora\n",
      "Processing Record 30 of Set 7 | bassila\n",
      "Cant find city. Skipping...\n",
      "Processing Record 31 of Set 7 | wanning\n",
      "Processing Record 32 of Set 7 | claremore\n",
      "Cant find city. Skipping...\n",
      "Processing Record 33 of Set 7 | cockburn town\n",
      "Processing Record 34 of Set 7 | bengkulu\n",
      "Processing Record 35 of Set 7 | ilulissat\n",
      "Processing Record 36 of Set 7 | tahoua\n",
      "Processing Record 37 of Set 7 | sangar\n",
      "Processing Record 38 of Set 7 | kulachi\n",
      "Processing Record 39 of Set 7 | mehamn\n",
      "Processing Record 40 of Set 7 | mandera\n",
      "Cant find city. Skipping...\n",
      "Processing Record 41 of Set 7 | syamzha\n",
      "Processing Record 42 of Set 7 | sobolevo\n",
      "Processing Record 43 of Set 7 | zanjan\n",
      "Processing Record 44 of Set 7 | mount gambier\n",
      "Cant find city. Skipping...\n",
      "Processing Record 45 of Set 7 | minsk\n",
      "Processing Record 46 of Set 7 | varnavino\n",
      "Processing Record 47 of Set 7 | fort nelson\n",
      "Processing Record 48 of Set 7 | mogadishu\n",
      "Processing Record 49 of Set 7 | nanortalik\n",
      "Processing Record 1 of Set 8 | san isidro\n",
      "Processing Record 2 of Set 8 | gat\n",
      "Processing Record 3 of Set 8 | iwanai\n",
      "Processing Record 4 of Set 8 | marawi\n",
      "Processing Record 5 of Set 8 | marsaxlokk\n",
      "Processing Record 6 of Set 8 | kalabo\n",
      "Processing Record 7 of Set 8 | shakawe\n",
      "Processing Record 8 of Set 8 | armenis\n",
      "Processing Record 9 of Set 8 | chumikan\n",
      "Processing Record 10 of Set 8 | whitehorse\n",
      "Processing Record 11 of Set 8 | tabory\n",
      "Processing Record 12 of Set 8 | loa janan\n",
      "Processing Record 13 of Set 8 | tulun\n",
      "Processing Record 14 of Set 8 | san quintin\n",
      "Processing Record 15 of Set 8 | muros\n",
      "Processing Record 16 of Set 8 | srednekolymsk\n",
      "Processing Record 17 of Set 8 | baruun-urt\n",
      "Processing Record 18 of Set 8 | westport\n",
      "Processing Record 19 of Set 8 | oristano\n",
      "Processing Record 20 of Set 8 | imbituba\n",
      "Processing Record 21 of Set 8 | alofi\n",
      "Processing Record 22 of Set 8 | hervey bay\n",
      "Processing Record 23 of Set 8 | port lincoln\n",
      "Processing Record 24 of Set 8 | susurluk\n",
      "Processing Record 25 of Set 8 | bagdarin\n",
      "Processing Record 26 of Set 8 | gnjilane\n"
     ]
    },
    {
     "name": "stdout",
     "output_type": "stream",
     "text": [
      "Processing Record 27 of Set 8 | baijiantan\n",
      "Processing Record 28 of Set 8 | gagino\n",
      "Processing Record 29 of Set 8 | san-pedro\n",
      "Cant find city. Skipping...\n",
      "Processing Record 30 of Set 8 | oistins\n",
      "Processing Record 31 of Set 8 | cairo\n",
      "Cant find city. Skipping...\n",
      "Processing Record 32 of Set 8 | limuru\n",
      "Processing Record 33 of Set 8 | promyshlennovskiy\n",
      "Processing Record 34 of Set 8 | borogontsy\n",
      "Processing Record 35 of Set 8 | macas\n",
      "Processing Record 36 of Set 8 | coro\n",
      "Processing Record 37 of Set 8 | kropotkin\n",
      "Cant find city. Skipping...\n",
      "Processing Record 38 of Set 8 | menongue\n",
      "Processing Record 39 of Set 8 | inongo\n",
      "Processing Record 40 of Set 8 | olinda\n",
      "Cant find city. Skipping...\n",
      "Processing Record 41 of Set 8 | esperance\n",
      "Cant find city. Skipping...\n",
      "Processing Record 42 of Set 8 | mayumba\n",
      "Processing Record 43 of Set 8 | watertown\n",
      "Processing Record 44 of Set 8 | bonthe\n",
      "Processing Record 45 of Set 8 | caravelas\n",
      "Processing Record 46 of Set 8 | saint-joseph\n",
      "Processing Record 47 of Set 8 | sorland\n",
      "Processing Record 48 of Set 8 | gushikawa\n",
      "Processing Record 49 of Set 8 | morehead\n",
      "Processing Record 1 of Set 9 | ginir\n",
      "Cant find city. Skipping...\n",
      "Processing Record 2 of Set 9 | gotsu\n",
      "Processing Record 3 of Set 9 | cabedelo\n",
      "Processing Record 4 of Set 9 | aygezard\n",
      "Processing Record 5 of Set 9 | klaksvik\n",
      "Processing Record 6 of Set 9 | bulolo\n",
      "Processing Record 7 of Set 9 | mercedes\n",
      "Processing Record 8 of Set 9 | havelock\n",
      "Processing Record 9 of Set 9 | garowe\n",
      "Processing Record 10 of Set 9 | inderka\n",
      "Processing Record 11 of Set 9 | fort-shevchenko\n",
      "Processing Record 12 of Set 9 | gboko\n",
      "Processing Record 13 of Set 9 | fandriana\n",
      "Cant find city. Skipping...\n",
      "Processing Record 14 of Set 9 | tongren\n",
      "Processing Record 15 of Set 9 | hopelchen\n",
      "Processing Record 16 of Set 9 | sioux lookout\n",
      "Processing Record 17 of Set 9 | mount pleasant\n",
      "Processing Record 18 of Set 9 | bambanglipuro\n",
      "Processing Record 19 of Set 9 | saldanha\n",
      "Processing Record 20 of Set 9 | idanre\n",
      "Processing Record 21 of Set 9 | igrim\n",
      "Processing Record 22 of Set 9 | okhotsk\n",
      "Processing Record 23 of Set 9 | hualmay\n",
      "Processing Record 24 of Set 9 | nelson bay\n",
      "Cant find city. Skipping...\n",
      "Processing Record 25 of Set 9 | jinchang\n",
      "Processing Record 26 of Set 9 | paragominas\n",
      "Processing Record 27 of Set 9 | ambon\n",
      "Processing Record 28 of Set 9 | port macquarie\n",
      "Processing Record 29 of Set 9 | tarko-sale\n",
      "Processing Record 30 of Set 9 | kieta\n",
      "Processing Record 31 of Set 9 | sudak\n",
      "Processing Record 32 of Set 9 | lokot\n",
      "Processing Record 33 of Set 9 | dudinka\n",
      "Processing Record 34 of Set 9 | chipinge\n",
      "Processing Record 35 of Set 9 | verkh-usugli\n",
      "Processing Record 36 of Set 9 | agadez\n",
      "Processing Record 37 of Set 9 | arlit\n",
      "Processing Record 38 of Set 9 | charleston\n",
      "Processing Record 39 of Set 9 | zeya\n",
      "Cant find city. Skipping...\n",
      "Processing Record 40 of Set 9 | yamada\n",
      "Processing Record 41 of Set 9 | otane\n",
      "Processing Record 42 of Set 9 | disna\n",
      "Processing Record 43 of Set 9 | tessalit\n",
      "Processing Record 44 of Set 9 | hovd\n",
      "Processing Record 45 of Set 9 | yerbogachen\n",
      "Processing Record 46 of Set 9 | cap malheureux\n",
      "Processing Record 47 of Set 9 | pombas\n",
      "Processing Record 48 of Set 9 | yarada\n",
      "Processing Record 49 of Set 9 | nishihara\n",
      "Processing Record 1 of Set 10 | boguchany\n",
      "Processing Record 2 of Set 10 | honolulu\n",
      "Processing Record 3 of Set 10 | mingyue\n",
      "Processing Record 4 of Set 10 | khudumelapye\n",
      "Processing Record 5 of Set 10 | cuxhaven\n",
      "Cant find city. Skipping...\n",
      "Processing Record 6 of Set 10 | garissa\n",
      "Processing Record 7 of Set 10 | lompoc\n",
      "Processing Record 8 of Set 10 | rosetta\n",
      "Processing Record 9 of Set 10 | kyra\n",
      "Processing Record 10 of Set 10 | takoradi\n",
      "Processing Record 11 of Set 10 | boende\n",
      "Processing Record 12 of Set 10 | werda\n",
      "Cant find city. Skipping...\n",
      "Processing Record 13 of Set 10 | buraydah\n",
      "Processing Record 14 of Set 10 | tatawin\n",
      "Processing Record 15 of Set 10 | manjacaze\n",
      "Processing Record 16 of Set 10 | krasnovishersk\n",
      "Processing Record 17 of Set 10 | north bend\n",
      "Processing Record 18 of Set 10 | ukiah\n",
      "Processing Record 19 of Set 10 | penzance\n",
      "Processing Record 20 of Set 10 | nuuk\n",
      "Processing Record 21 of Set 10 | benalla\n",
      "Processing Record 22 of Set 10 | asfi\n",
      "Processing Record 23 of Set 10 | orchard homes\n",
      "Processing Record 24 of Set 10 | bajil\n",
      "Cant find city. Skipping...\n",
      "Processing Record 25 of Set 10 | windhoek\n",
      "Processing Record 26 of Set 10 | saint-georges\n",
      "Processing Record 27 of Set 10 | asau\n",
      "Processing Record 28 of Set 10 | praia da vitoria\n",
      "Processing Record 29 of Set 10 | abu zabad\n",
      "Processing Record 30 of Set 10 | opuwo\n",
      "Processing Record 31 of Set 10 | kamennogorsk\n",
      "Processing Record 32 of Set 10 | mantamados\n",
      "Cant find city. Skipping...\n",
      "Processing Record 33 of Set 10 | kidal\n",
      "Processing Record 34 of Set 10 | kolokani\n",
      "Processing Record 35 of Set 10 | carbonear\n",
      "Processing Record 36 of Set 10 | boden\n",
      "Processing Record 37 of Set 10 | hwange\n",
      "Processing Record 38 of Set 10 | warmbad\n",
      "Processing Record 39 of Set 10 | hasaki\n",
      "Processing Record 40 of Set 10 | nouakchott\n",
      "Processing Record 41 of Set 10 | havoysund\n",
      "Processing Record 42 of Set 10 | sosnovka\n",
      "Processing Record 43 of Set 10 | kontagora\n",
      "Processing Record 44 of Set 10 | petropavlovsk-kamchatskiy\n",
      "Processing Record 45 of Set 10 | bedesa\n",
      "Processing Record 46 of Set 10 | kismayo\n",
      "Processing Record 47 of Set 10 | mamallapuram\n",
      "Processing Record 48 of Set 10 | viransehir\n",
      "Processing Record 49 of Set 10 | palmer\n",
      "Cant find city. Skipping...\n",
      "Processing Record 1 of Set 11 | aden\n",
      "Processing Record 2 of Set 11 | idrinskoye\n",
      "Processing Record 3 of Set 11 | palmira\n",
      "Processing Record 4 of Set 11 | kaligutan\n",
      "Processing Record 5 of Set 11 | ayan\n",
      "Processing Record 6 of Set 11 | milkovo\n",
      "Processing Record 7 of Set 11 | tan an\n",
      "Processing Record 8 of Set 11 | maltahohe\n",
      "Processing Record 9 of Set 11 | necochea\n",
      "Processing Record 10 of Set 11 | ugoofaaru\n",
      "Processing Record 11 of Set 11 | batagay-alyta\n",
      "Processing Record 12 of Set 11 | skelleftea\n",
      "Processing Record 13 of Set 11 | codrington\n",
      "Processing Record 14 of Set 11 | krasnoyarskiy\n",
      "Processing Record 15 of Set 11 | bajo baudo\n",
      "Processing Record 16 of Set 11 | bubaque\n",
      "Processing Record 17 of Set 11 | colac\n",
      "Processing Record 18 of Set 11 | gweru\n",
      "Processing Record 19 of Set 11 | willowmore\n",
      "Processing Record 20 of Set 11 | grindavik\n",
      "Processing Record 21 of Set 11 | chara\n",
      "Processing Record 22 of Set 11 | san andres\n",
      "Processing Record 23 of Set 11 | yambio\n",
      "Processing Record 24 of Set 11 | manokwari\n",
      "Cant find city. Skipping...\n",
      "Cant find city. Skipping...\n",
      "Processing Record 25 of Set 11 | vaitape\n",
      "Processing Record 26 of Set 11 | barreiras\n",
      "Processing Record 27 of Set 11 | brae\n",
      "Processing Record 28 of Set 11 | venado tuerto\n",
      "Cant find city. Skipping...\n",
      "Processing Record 29 of Set 11 | mercogliano\n",
      "Processing Record 30 of Set 11 | erenhot\n",
      "Processing Record 31 of Set 11 | puerto carreno\n",
      "Processing Record 32 of Set 11 | fethiye\n",
      "Cant find city. Skipping...\n",
      "Processing Record 33 of Set 11 | wakkanai\n",
      "Processing Record 34 of Set 11 | magole\n",
      "Processing Record 35 of Set 11 | oranjestad\n",
      "Cant find city. Skipping...\n",
      "Processing Record 36 of Set 11 | lakes entrance\n",
      "Processing Record 37 of Set 11 | clyde river\n",
      "Processing Record 38 of Set 11 | duluth\n",
      "Processing Record 39 of Set 11 | bunia\n",
      "Processing Record 40 of Set 11 | smidovich\n",
      "Processing Record 41 of Set 11 | san juan\n",
      "Processing Record 42 of Set 11 | lorengau\n",
      "Processing Record 43 of Set 11 | miro khan\n",
      "Processing Record 44 of Set 11 | bamako\n",
      "Processing Record 45 of Set 11 | puerto escondido\n",
      "Processing Record 46 of Set 11 | bowen\n",
      "Processing Record 47 of Set 11 | matamoros\n",
      "Processing Record 48 of Set 11 | itoman\n",
      "Processing Record 49 of Set 11 | tabou\n",
      "Processing Record 1 of Set 12 | kralendijk\n",
      "Processing Record 2 of Set 12 | ngaoundere\n",
      "Processing Record 3 of Set 12 | chor\n",
      "Processing Record 4 of Set 12 | sena madureira\n",
      "Processing Record 5 of Set 12 | loudi\n",
      "Processing Record 6 of Set 12 | coxim\n",
      "Processing Record 7 of Set 12 | burgeo\n",
      "Processing Record 8 of Set 12 | baykit\n",
      "Processing Record 9 of Set 12 | shumyachi\n",
      "Cant find city. Skipping...\n",
      "Processing Record 10 of Set 12 | dubbo\n",
      "Processing Record 11 of Set 12 | kalmar\n",
      "Cant find city. Skipping...\n",
      "Processing Record 12 of Set 12 | severnoye\n",
      "Processing Record 13 of Set 12 | tiarei\n",
      "Processing Record 14 of Set 12 | manggar\n"
     ]
    },
    {
     "name": "stdout",
     "output_type": "stream",
     "text": [
      "Processing Record 15 of Set 12 | amberley\n",
      "Processing Record 16 of Set 12 | tura\n",
      "Processing Record 17 of Set 12 | rundu\n",
      "-----------------------------\n",
      "Data Retrieval is Complete\n",
      "-----------------------------\n"
     ]
    }
   ],
   "source": [
    "count_1 = 0\n",
    "count_2 = 1\n",
    "\n",
    "lat = []\n",
    "lng = []\n",
    "cloudinesses = []\n",
    "countries = []\n",
    "humidities = []\n",
    "temp_max = []\n",
    "wind_speed = []\n",
    "dates = []\n",
    "cityname = []\n",
    "\n",
    "for city in cities:\n",
    "    try:\n",
    "        response = requests.get(query_url + city.replace(\" \",\"&\")).json()\n",
    "        lat.append(response[\"coord\"][\"lat\"])\n",
    "        lng.append(response[\"coord\"][\"lon\"])\n",
    "        temp_max.append(response[\"main\"][\"temp_max\"])\n",
    "        wind_speed.append(response[\"wind\"][\"speed\"])\n",
    "        cloudinesses.append(response[\"clouds\"][\"all\"])\n",
    "        countries.append(response[\"sys\"][\"country\"])\n",
    "        dates.append(response[\"dt\"])\n",
    "        humidities.append(response[\"main\"][\"humidity\"])\n",
    "\n",
    "        if count_1 > 48:\n",
    "            count_1 = 1\n",
    "            count_2 += 1\n",
    "            cityname.append(city)\n",
    "        else:\n",
    "            count_1 += 1\n",
    "            cityname.append(city)\n",
    "        print(f\"Processing Record {count_1} of Set {count_2} | {city}\")\n",
    "    except Exception:\n",
    "        print(\"Cant find city. Skipping...\")\n",
    "print(\"-----------------------------\")\n",
    "print(\"Data Retrieval is Complete\")\n",
    "print(\"-----------------------------\")"
   ]
  },
  {
   "cell_type": "markdown",
   "metadata": {},
   "source": [
    "### Convert Raw Data to DataFrame\n",
    "* Export the city data into a .csv.\n",
    "* Display the DataFrame"
   ]
  },
  {
   "cell_type": "code",
   "execution_count": 6,
   "metadata": {},
   "outputs": [
    {
     "data": {
      "text/plain": [
       "City          556\n",
       "Cloudiness    556\n",
       "Country       556\n",
       "Date          556\n",
       "Humidity      556\n",
       "Lat           556\n",
       "Lng           556\n",
       "Max Temp      556\n",
       "Wind Speed    556\n",
       "dtype: int64"
      ]
     },
     "execution_count": 6,
     "metadata": {},
     "output_type": "execute_result"
    }
   ],
   "source": [
    "weather_df = {\"City\":cityname, \"Cloudiness\":cloudinesses, \"Country\":countries, \"Date\":dates, \"Humidity\":humidities, \n",
    "               \"Lat\":lat, \"Lng\":lng, \"Max Temp\":temp_max, \"Wind Speed\":wind_speed}\n",
    "weather_df = pd.DataFrame(weather_df)\n",
    "weather_df.count()"
   ]
  },
  {
   "cell_type": "code",
   "execution_count": null,
   "metadata": {},
   "outputs": [],
   "source": []
  },
  {
   "cell_type": "markdown",
   "metadata": {},
   "source": [
    "## Inspect the data and remove the cities where the humidity > 100%.\n",
    "----\n",
    "Skip this step if there are no cities that have humidity > 100%. "
   ]
  },
  {
   "cell_type": "code",
   "execution_count": 7,
   "metadata": {},
   "outputs": [
    {
     "data": {
      "text/html": [
       "<div>\n",
       "<style scoped>\n",
       "    .dataframe tbody tr th:only-of-type {\n",
       "        vertical-align: middle;\n",
       "    }\n",
       "\n",
       "    .dataframe tbody tr th {\n",
       "        vertical-align: top;\n",
       "    }\n",
       "\n",
       "    .dataframe thead th {\n",
       "        text-align: right;\n",
       "    }\n",
       "</style>\n",
       "<table border=\"1\" class=\"dataframe\">\n",
       "  <thead>\n",
       "    <tr style=\"text-align: right;\">\n",
       "      <th></th>\n",
       "      <th>City</th>\n",
       "      <th>Cloudiness</th>\n",
       "      <th>Country</th>\n",
       "      <th>Date</th>\n",
       "      <th>Humidity</th>\n",
       "      <th>Lat</th>\n",
       "      <th>Lng</th>\n",
       "      <th>Max Temp</th>\n",
       "      <th>Wind Speed</th>\n",
       "    </tr>\n",
       "  </thead>\n",
       "  <tbody>\n",
       "    <tr>\n",
       "      <th>0</th>\n",
       "      <td>hobart</td>\n",
       "      <td>40</td>\n",
       "      <td>AU</td>\n",
       "      <td>1652652514</td>\n",
       "      <td>82</td>\n",
       "      <td>-42.8794</td>\n",
       "      <td>147.3294</td>\n",
       "      <td>48.06</td>\n",
       "      <td>11.50</td>\n",
       "    </tr>\n",
       "    <tr>\n",
       "      <th>1</th>\n",
       "      <td>vardo</td>\n",
       "      <td>100</td>\n",
       "      <td>NO</td>\n",
       "      <td>1652652515</td>\n",
       "      <td>81</td>\n",
       "      <td>70.3705</td>\n",
       "      <td>31.1107</td>\n",
       "      <td>37.38</td>\n",
       "      <td>9.22</td>\n",
       "    </tr>\n",
       "    <tr>\n",
       "      <th>2</th>\n",
       "      <td>avarua</td>\n",
       "      <td>75</td>\n",
       "      <td>CK</td>\n",
       "      <td>1652652516</td>\n",
       "      <td>61</td>\n",
       "      <td>-21.2078</td>\n",
       "      <td>-159.7750</td>\n",
       "      <td>82.45</td>\n",
       "      <td>4.61</td>\n",
       "    </tr>\n",
       "    <tr>\n",
       "      <th>3</th>\n",
       "      <td>albany</td>\n",
       "      <td>30</td>\n",
       "      <td>US</td>\n",
       "      <td>1652652458</td>\n",
       "      <td>91</td>\n",
       "      <td>42.6001</td>\n",
       "      <td>-73.9662</td>\n",
       "      <td>73.51</td>\n",
       "      <td>4.83</td>\n",
       "    </tr>\n",
       "    <tr>\n",
       "      <th>4</th>\n",
       "      <td>donghai</td>\n",
       "      <td>100</td>\n",
       "      <td>CN</td>\n",
       "      <td>1652652516</td>\n",
       "      <td>92</td>\n",
       "      <td>22.9459</td>\n",
       "      <td>115.6420</td>\n",
       "      <td>65.32</td>\n",
       "      <td>5.46</td>\n",
       "    </tr>\n",
       "    <tr>\n",
       "      <th>...</th>\n",
       "      <td>...</td>\n",
       "      <td>...</td>\n",
       "      <td>...</td>\n",
       "      <td>...</td>\n",
       "      <td>...</td>\n",
       "      <td>...</td>\n",
       "      <td>...</td>\n",
       "      <td>...</td>\n",
       "      <td>...</td>\n",
       "    </tr>\n",
       "    <tr>\n",
       "      <th>551</th>\n",
       "      <td>tiarei</td>\n",
       "      <td>65</td>\n",
       "      <td>PF</td>\n",
       "      <td>1652652746</td>\n",
       "      <td>75</td>\n",
       "      <td>-17.5333</td>\n",
       "      <td>-149.3333</td>\n",
       "      <td>84.22</td>\n",
       "      <td>14.23</td>\n",
       "    </tr>\n",
       "    <tr>\n",
       "      <th>552</th>\n",
       "      <td>manggar</td>\n",
       "      <td>42</td>\n",
       "      <td>ID</td>\n",
       "      <td>1652652746</td>\n",
       "      <td>83</td>\n",
       "      <td>-2.8833</td>\n",
       "      <td>108.2667</td>\n",
       "      <td>81.28</td>\n",
       "      <td>6.91</td>\n",
       "    </tr>\n",
       "    <tr>\n",
       "      <th>553</th>\n",
       "      <td>amberley</td>\n",
       "      <td>0</td>\n",
       "      <td>US</td>\n",
       "      <td>1652652746</td>\n",
       "      <td>34</td>\n",
       "      <td>39.2048</td>\n",
       "      <td>-84.4280</td>\n",
       "      <td>86.32</td>\n",
       "      <td>5.75</td>\n",
       "    </tr>\n",
       "    <tr>\n",
       "      <th>554</th>\n",
       "      <td>tura</td>\n",
       "      <td>99</td>\n",
       "      <td>IN</td>\n",
       "      <td>1652652747</td>\n",
       "      <td>98</td>\n",
       "      <td>25.5198</td>\n",
       "      <td>90.2201</td>\n",
       "      <td>72.90</td>\n",
       "      <td>5.84</td>\n",
       "    </tr>\n",
       "    <tr>\n",
       "      <th>555</th>\n",
       "      <td>rundu</td>\n",
       "      <td>81</td>\n",
       "      <td>NA</td>\n",
       "      <td>1652652514</td>\n",
       "      <td>39</td>\n",
       "      <td>-17.9333</td>\n",
       "      <td>19.7667</td>\n",
       "      <td>65.01</td>\n",
       "      <td>5.48</td>\n",
       "    </tr>\n",
       "  </tbody>\n",
       "</table>\n",
       "<p>556 rows × 9 columns</p>\n",
       "</div>"
      ],
      "text/plain": [
       "         City  Cloudiness Country        Date  Humidity      Lat       Lng  \\\n",
       "0      hobart          40      AU  1652652514        82 -42.8794  147.3294   \n",
       "1       vardo         100      NO  1652652515        81  70.3705   31.1107   \n",
       "2      avarua          75      CK  1652652516        61 -21.2078 -159.7750   \n",
       "3      albany          30      US  1652652458        91  42.6001  -73.9662   \n",
       "4     donghai         100      CN  1652652516        92  22.9459  115.6420   \n",
       "..        ...         ...     ...         ...       ...      ...       ...   \n",
       "551    tiarei          65      PF  1652652746        75 -17.5333 -149.3333   \n",
       "552   manggar          42      ID  1652652746        83  -2.8833  108.2667   \n",
       "553  amberley           0      US  1652652746        34  39.2048  -84.4280   \n",
       "554      tura          99      IN  1652652747        98  25.5198   90.2201   \n",
       "555     rundu          81      NA  1652652514        39 -17.9333   19.7667   \n",
       "\n",
       "     Max Temp  Wind Speed  \n",
       "0       48.06       11.50  \n",
       "1       37.38        9.22  \n",
       "2       82.45        4.61  \n",
       "3       73.51        4.83  \n",
       "4       65.32        5.46  \n",
       "..        ...         ...  \n",
       "551     84.22       14.23  \n",
       "552     81.28        6.91  \n",
       "553     86.32        5.75  \n",
       "554     72.90        5.84  \n",
       "555     65.01        5.48  \n",
       "\n",
       "[556 rows x 9 columns]"
      ]
     },
     "execution_count": 7,
     "metadata": {},
     "output_type": "execute_result"
    }
   ],
   "source": [
    "weather_df.loc[weather_df[\"Humidity\"] <= 100]"
   ]
  },
  {
   "cell_type": "code",
   "execution_count": 8,
   "metadata": {},
   "outputs": [
    {
     "data": {
      "text/html": [
       "<div>\n",
       "<style scoped>\n",
       "    .dataframe tbody tr th:only-of-type {\n",
       "        vertical-align: middle;\n",
       "    }\n",
       "\n",
       "    .dataframe tbody tr th {\n",
       "        vertical-align: top;\n",
       "    }\n",
       "\n",
       "    .dataframe thead th {\n",
       "        text-align: right;\n",
       "    }\n",
       "</style>\n",
       "<table border=\"1\" class=\"dataframe\">\n",
       "  <thead>\n",
       "    <tr style=\"text-align: right;\">\n",
       "      <th></th>\n",
       "      <th>City</th>\n",
       "      <th>Cloudiness</th>\n",
       "      <th>Country</th>\n",
       "      <th>Date</th>\n",
       "      <th>Humidity</th>\n",
       "      <th>Lat</th>\n",
       "      <th>Lng</th>\n",
       "      <th>Max Temp</th>\n",
       "      <th>Wind Speed</th>\n",
       "    </tr>\n",
       "  </thead>\n",
       "  <tbody>\n",
       "  </tbody>\n",
       "</table>\n",
       "</div>"
      ],
      "text/plain": [
       "Empty DataFrame\n",
       "Columns: [City, Cloudiness, Country, Date, Humidity, Lat, Lng, Max Temp, Wind Speed]\n",
       "Index: []"
      ]
     },
     "execution_count": 8,
     "metadata": {},
     "output_type": "execute_result"
    }
   ],
   "source": [
    "#  Get the indices of cities that have humidity over 100%.\n",
    "humidity_outliers = weather_df.loc[weather_df[\"Humidity\"] > 100]\n",
    "humidity_outliers\n",
    "#100% humidity does not exist\n",
    "\n"
   ]
  },
  {
   "cell_type": "code",
   "execution_count": 9,
   "metadata": {},
   "outputs": [],
   "source": [
    "# Make a new DataFrame equal to the city data to drop all humidity outliers by index.\n",
    "# Passing \"inplace=False\" will make a copy of the city_data DataFrame, which we call \"clean_city_data\".\n"
   ]
  },
  {
   "cell_type": "code",
   "execution_count": 10,
   "metadata": {},
   "outputs": [
    {
     "data": {
      "text/html": [
       "<div>\n",
       "<style scoped>\n",
       "    .dataframe tbody tr th:only-of-type {\n",
       "        vertical-align: middle;\n",
       "    }\n",
       "\n",
       "    .dataframe tbody tr th {\n",
       "        vertical-align: top;\n",
       "    }\n",
       "\n",
       "    .dataframe thead th {\n",
       "        text-align: right;\n",
       "    }\n",
       "</style>\n",
       "<table border=\"1\" class=\"dataframe\">\n",
       "  <thead>\n",
       "    <tr style=\"text-align: right;\">\n",
       "      <th></th>\n",
       "      <th>City</th>\n",
       "      <th>Cloudiness</th>\n",
       "      <th>Country</th>\n",
       "      <th>Date</th>\n",
       "      <th>Humidity</th>\n",
       "      <th>Lat</th>\n",
       "      <th>Lng</th>\n",
       "      <th>Max Temp</th>\n",
       "      <th>Wind Speed</th>\n",
       "    </tr>\n",
       "  </thead>\n",
       "  <tbody>\n",
       "    <tr>\n",
       "      <th>0</th>\n",
       "      <td>hobart</td>\n",
       "      <td>40</td>\n",
       "      <td>AU</td>\n",
       "      <td>1652652514</td>\n",
       "      <td>82</td>\n",
       "      <td>-42.8794</td>\n",
       "      <td>147.3294</td>\n",
       "      <td>48.06</td>\n",
       "      <td>11.50</td>\n",
       "    </tr>\n",
       "    <tr>\n",
       "      <th>1</th>\n",
       "      <td>vardo</td>\n",
       "      <td>100</td>\n",
       "      <td>NO</td>\n",
       "      <td>1652652515</td>\n",
       "      <td>81</td>\n",
       "      <td>70.3705</td>\n",
       "      <td>31.1107</td>\n",
       "      <td>37.38</td>\n",
       "      <td>9.22</td>\n",
       "    </tr>\n",
       "    <tr>\n",
       "      <th>2</th>\n",
       "      <td>avarua</td>\n",
       "      <td>75</td>\n",
       "      <td>CK</td>\n",
       "      <td>1652652516</td>\n",
       "      <td>61</td>\n",
       "      <td>-21.2078</td>\n",
       "      <td>-159.7750</td>\n",
       "      <td>82.45</td>\n",
       "      <td>4.61</td>\n",
       "    </tr>\n",
       "    <tr>\n",
       "      <th>3</th>\n",
       "      <td>albany</td>\n",
       "      <td>30</td>\n",
       "      <td>US</td>\n",
       "      <td>1652652458</td>\n",
       "      <td>91</td>\n",
       "      <td>42.6001</td>\n",
       "      <td>-73.9662</td>\n",
       "      <td>73.51</td>\n",
       "      <td>4.83</td>\n",
       "    </tr>\n",
       "    <tr>\n",
       "      <th>4</th>\n",
       "      <td>donghai</td>\n",
       "      <td>100</td>\n",
       "      <td>CN</td>\n",
       "      <td>1652652516</td>\n",
       "      <td>92</td>\n",
       "      <td>22.9459</td>\n",
       "      <td>115.6420</td>\n",
       "      <td>65.32</td>\n",
       "      <td>5.46</td>\n",
       "    </tr>\n",
       "  </tbody>\n",
       "</table>\n",
       "</div>"
      ],
      "text/plain": [
       "      City  Cloudiness Country        Date  Humidity      Lat       Lng  \\\n",
       "0   hobart          40      AU  1652652514        82 -42.8794  147.3294   \n",
       "1    vardo         100      NO  1652652515        81  70.3705   31.1107   \n",
       "2   avarua          75      CK  1652652516        61 -21.2078 -159.7750   \n",
       "3   albany          30      US  1652652458        91  42.6001  -73.9662   \n",
       "4  donghai         100      CN  1652652516        92  22.9459  115.6420   \n",
       "\n",
       "   Max Temp  Wind Speed  \n",
       "0     48.06       11.50  \n",
       "1     37.38        9.22  \n",
       "2     82.45        4.61  \n",
       "3     73.51        4.83  \n",
       "4     65.32        5.46  "
      ]
     },
     "execution_count": 10,
     "metadata": {},
     "output_type": "execute_result"
    }
   ],
   "source": [
    "clean_city_data = weather_df.drop(humidity_outliers[\"Humidity\"], inplace= False)\n",
    "clean_city_data.head()\n"
   ]
  },
  {
   "cell_type": "markdown",
   "metadata": {},
   "source": [
    "## Plotting the Data\n",
    "* Use proper labeling of the plots using plot titles (including date of analysis) and axes labels.\n",
    "* Save the plotted figures as .pngs."
   ]
  },
  {
   "cell_type": "markdown",
   "metadata": {},
   "source": [
    "## Latitude vs. Temperature Plot"
   ]
  },
  {
   "cell_type": "code",
   "execution_count": 11,
   "metadata": {
    "scrolled": true
   },
   "outputs": [
    {
     "data": {
      "image/png": "[encoded data removed]",
      "text/plain": [
       "<Figure size 648x360 with 1 Axes>"
      ]
     },
     "metadata": {
      "needs_background": "light"
     },
     "output_type": "display_data"
    }
   ],
   "source": [
    "clean_city_data.plot(kind=\"scatter\", x=\"Lat\", y=\"Max Temp\", grid=True, figsize=(9,5),\n",
    "                     title=\"Temperature (F) vs. Latitude\")\n",
    "plt.show()"
   ]
  },
  {
   "cell_type": "code",
   "execution_count": 12,
   "metadata": {},
   "outputs": [],
   "source": [
    "#We are shown the correlation between the max temprature in the cities and latitude. As the latitudes get closer to \n",
    "#the 0-20 range the temps increase but towards the more extreem latitudes the max temps drop "
   ]
  },
  {
   "cell_type": "markdown",
   "metadata": {},
   "source": [
    "## Latitude vs. Humidity Plot"
   ]
  },
  {
   "cell_type": "code",
   "execution_count": 13,
   "metadata": {},
   "outputs": [
    {
     "data": {
      "image/png": "[encoded data removed]",
      "text/plain": [
       "<Figure size 648x360 with 1 Axes>"
      ]
     },
     "metadata": {
      "needs_background": "light"
     },
     "output_type": "display_data"
    }
   ],
   "source": [
    "clean_city_data.plot(kind=\"scatter\", x=\"Lat\", y=\"Humidity\", grid=True, figsize=(9,5),\n",
    "              title=\"Humidity (%) vs. Latitude\")\n",
    "plt.show()"
   ]
  },
  {
   "cell_type": "code",
   "execution_count": 14,
   "metadata": {},
   "outputs": [],
   "source": [
    "#This chart shows the correlation between humidity and latitude. There seems to be a very sporadic correlation"
   ]
  },
  {
   "cell_type": "markdown",
   "metadata": {},
   "source": [
    "## Latitude vs. Cloudiness Plot"
   ]
  },
  {
   "cell_type": "code",
   "execution_count": 15,
   "metadata": {},
   "outputs": [
    {
     "data": {
      "image/png": "[encoded data removed]",
      "text/plain": [
       "<Figure size 648x360 with 1 Axes>"
      ]
     },
     "metadata": {
      "needs_background": "light"
     },
     "output_type": "display_data"
    }
   ],
   "source": [
    "clean_city_data.plot(kind=\"scatter\", x=\"Lat\", y=\"Cloudiness\", grid=True, figsize=(9,5),\n",
    "              title=\"Cloudiness (%) vs. Latitude\")\n",
    "plt.show()"
   ]
  },
  {
   "cell_type": "code",
   "execution_count": null,
   "metadata": {},
   "outputs": [],
   "source": [
    "#The correltion between cloudiness and latitude is more focused around 0 and 100 but is sporadic in between "
   ]
  },
  {
   "cell_type": "markdown",
   "metadata": {},
   "source": [
    "## Latitude vs. Wind Speed Plot"
   ]
  },
  {
   "cell_type": "code",
   "execution_count": 16,
   "metadata": {},
   "outputs": [
    {
     "data": {
      "image/png": "[encoded data removed]",
      "text/plain": [
       "<Figure size 648x360 with 1 Axes>"
      ]
     },
     "metadata": {
      "needs_background": "light"
     },
     "output_type": "display_data"
    }
   ],
   "source": [
    "clean_city_data.plot(kind=\"scatter\", x=\"Lat\", y=\"Wind Speed\", grid=True, figsize=(9,5),\n",
    "              title=\"Wind Speed (mph) vs. Latitude\")\n",
    "plt.show()"
   ]
  },
  {
   "cell_type": "code",
   "execution_count": null,
   "metadata": {},
   "outputs": [],
   "source": [
    "#The correlation between latitude and windspeed seems to be more focused in the higher latitudes "
   ]
  },
  {
   "cell_type": "markdown",
   "metadata": {},
   "source": [
    "## Linear Regression"
   ]
  },
  {
   "cell_type": "code",
   "execution_count": 17,
   "metadata": {},
   "outputs": [],
   "source": [
    "north_hemi_df = clean_city_data.loc[clean_city_data[\"Lat\"] > 0]\n",
    "south_hemi_df = clean_city_data.loc[clean_city_data[\"Lat\"] < 0]"
   ]
  },
  {
   "cell_type": "markdown",
   "metadata": {},
   "source": [
    "####  Northern Hemisphere - Max Temp vs. Latitude Linear Regression"
   ]
  },
  {
   "cell_type": "code",
   "execution_count": 19,
   "metadata": {},
   "outputs": [
    {
     "name": "stdout",
     "output_type": "stream",
     "text": [
      "The r-squared value is: 0.649251961074829\n"
     ]
    },
    {
     "data": {
      "image/png": "[encoded data removed]",
      "text/plain": [
       "<Figure size 432x288 with 1 Axes>"
      ]
     },
     "metadata": {
      "needs_background": "light"
     },
     "output_type": "display_data"
    }
   ],
   "source": [
    "x_values = north_hemi_df['Lat']\n",
    "y_values = north_hemi_df['Max Temp']\n",
    "(slope, intercept, rvalue, pvalue, stderr) = linregress(x_values, y_values)\n",
    "regress_values = x_values * slope + intercept\n",
    "line_eq = \"y = \" + str(round(slope,2)) + \"x + \" + str(round(intercept,2))\n",
    "plt.scatter(x_values,y_values)\n",
    "plt.plot(x_values,regress_values,\"r-\")\n",
    "plt.annotate(line_eq,(15,45),fontsize=10,color=\"red\")\n",
    "plt.ylabel('Max Temp')\n",
    "plt.xlabel('Latitude')\n",
    "print(f\"The r-squared value is: {rvalue**2}\")\n",
    "plt.show()"
   ]
  },
  {
   "cell_type": "code",
   "execution_count": 20,
   "metadata": {},
   "outputs": [],
   "source": [
    "#There is a negative relationship between temp and latitude "
   ]
  },
  {
   "cell_type": "markdown",
   "metadata": {},
   "source": [
    "####  Southern Hemisphere - Max Temp vs. Latitude Linear Regression"
   ]
  },
  {
   "cell_type": "code",
   "execution_count": 21,
   "metadata": {},
   "outputs": [
    {
     "name": "stdout",
     "output_type": "stream",
     "text": [
      "The r-squared value is: 0.6006237543673291\n"
     ]
    },
    {
     "data": {
      "image/png": "[encoded data removed]",
      "text/plain": [
       "<Figure size 432x288 with 1 Axes>"
      ]
     },
     "metadata": {
      "needs_background": "light"
     },
     "output_type": "display_data"
    }
   ],
   "source": [
    "x_values = south_hemi_df['Lat']\n",
    "y_values = south_hemi_df['Max Temp']\n",
    "(slope, intercept, rvalue, pvalue, stderr) = linregress(x_values, y_values)\n",
    "regress_values = x_values * slope + intercept\n",
    "line_eq = \"y = \" + str(round(slope,2)) + \"x + \" + str(round(intercept,2))\n",
    "plt.scatter(x_values,y_values)\n",
    "plt.plot(x_values,regress_values,\"r-\")\n",
    "plt.annotate(line_eq,(15,45),fontsize=10,color=\"red\")\n",
    "plt.ylabel('Max Temp')\n",
    "plt.xlabel('Latitude')\n",
    "print(f\"The r-squared value is: {rvalue**2}\")\n",
    "plt.show()"
   ]
  },
  {
   "cell_type": "code",
   "execution_count": null,
   "metadata": {},
   "outputs": [],
   "source": [
    "#There is a positive relationship between temp and latitude "
   ]
  },
  {
   "cell_type": "markdown",
   "metadata": {},
   "source": [
    "####  Northern Hemisphere - Humidity (%) vs. Latitude Linear Regression"
   ]
  },
  {
   "cell_type": "code",
   "execution_count": 23,
   "metadata": {},
   "outputs": [
    {
     "name": "stdout",
     "output_type": "stream",
     "text": [
      "The r-squared value is: 0.03664569838413677\n"
     ]
    },
    {
     "data": {
      "image/png": "[encoded data removed]",
      "text/plain": [
       "<Figure size 432x288 with 1 Axes>"
      ]
     },
     "metadata": {
      "needs_background": "light"
     },
     "output_type": "display_data"
    }
   ],
   "source": [
    "x_values = north_hemi_df['Lat']\n",
    "y_values = north_hemi_df['Humidity']\n",
    "(slope, intercept, rvalue, pvalue, stderr) = linregress(x_values, y_values)\n",
    "regress_values = x_values * slope + intercept\n",
    "line_eq = \"y = \" + str(round(slope,2)) + \"x + \" + str(round(intercept,2))\n",
    "plt.scatter(x_values,y_values)\n",
    "plt.plot(x_values,regress_values,\"r-\")\n",
    "plt.annotate(line_eq,(15,45),fontsize=10,color=\"red\")\n",
    "plt.ylabel('Humidity')\n",
    "plt.xlabel('Latitude')\n",
    "print(f\"The r-squared value is: {rvalue**2}\")\n",
    "plt.show()"
   ]
  },
  {
   "cell_type": "code",
   "execution_count": null,
   "metadata": {},
   "outputs": [],
   "source": [
    "#There is a very weak positive correlation between latitude and humidity in the north hemisphere "
   ]
  },
  {
   "cell_type": "markdown",
   "metadata": {},
   "source": [
    "####  Southern Hemisphere - Humidity (%) vs. Latitude Linear Regression"
   ]
  },
  {
   "cell_type": "code",
   "execution_count": 24,
   "metadata": {},
   "outputs": [
    {
     "name": "stdout",
     "output_type": "stream",
     "text": [
      "The r-squared value is: 0.03155865297876454\n"
     ]
    },
    {
     "data": {
      "image/png": "[encoded data removed]",
      "text/plain": [
       "<Figure size 432x288 with 1 Axes>"
      ]
     },
     "metadata": {
      "needs_background": "light"
     },
     "output_type": "display_data"
    }
   ],
   "source": [
    "x_values = south_hemi_df['Lat']\n",
    "y_values = south_hemi_df['Humidity']\n",
    "(slope, intercept, rvalue, pvalue, stderr) = linregress(x_values, y_values)\n",
    "regress_values = x_values * slope + intercept\n",
    "line_eq = \"y = \" + str(round(slope,2)) + \"x + \" + str(round(intercept,2))\n",
    "plt.scatter(x_values,y_values)\n",
    "plt.plot(x_values,regress_values,\"r-\")\n",
    "plt.annotate(line_eq,(15,45),fontsize=10,color=\"red\")\n",
    "plt.ylabel('Humidity')\n",
    "plt.xlabel('Latitude')\n",
    "print(f\"The r-squared value is: {rvalue**2}\")\n",
    "plt.show()"
   ]
  },
  {
   "cell_type": "code",
   "execution_count": null,
   "metadata": {},
   "outputs": [],
   "source": [
    "#There is a very weak positive correlation between latitude and humidity in the south hemisphere "
   ]
  },
  {
   "cell_type": "markdown",
   "metadata": {},
   "source": [
    "####  Northern Hemisphere - Cloudiness (%) vs. Latitude Linear Regression"
   ]
  },
  {
   "cell_type": "code",
   "execution_count": 25,
   "metadata": {},
   "outputs": [
    {
     "name": "stdout",
     "output_type": "stream",
     "text": [
      "The r-squared value is: 0.011246452895617523\n"
     ]
    },
    {
     "data": {
      "image/png": "[encoded data removed]",
      "text/plain": [
       "<Figure size 432x288 with 1 Axes>"
      ]
     },
     "metadata": {
      "needs_background": "light"
     },
     "output_type": "display_data"
    }
   ],
   "source": [
    "x_values = north_hemi_df['Lat']\n",
    "y_values = north_hemi_df['Cloudiness']\n",
    "(slope, intercept, rvalue, pvalue, stderr) = linregress(x_values, y_values)\n",
    "regress_values = x_values * slope + intercept\n",
    "line_eq = \"y = \" + str(round(slope,2)) + \"x + \" + str(round(intercept,2))\n",
    "plt.scatter(x_values,y_values)\n",
    "plt.plot(x_values,regress_values,\"r-\")\n",
    "plt.annotate(line_eq,(15,45),fontsize=10,color=\"red\")\n",
    "plt.ylabel('Cloudiness')\n",
    "plt.xlabel('Latitude')\n",
    "print(f\"The r-squared value is: {rvalue**2}\")\n",
    "plt.show()"
   ]
  },
  {
   "cell_type": "code",
   "execution_count": null,
   "metadata": {},
   "outputs": [],
   "source": [
    "#There is a very weak positive correlation between latitude and humidity in the north hemisphere "
   ]
  },
  {
   "cell_type": "markdown",
   "metadata": {},
   "source": [
    "####  Southern Hemisphere - Cloudiness (%) vs. Latitude Linear Regression"
   ]
  },
  {
   "cell_type": "code",
   "execution_count": 26,
   "metadata": {},
   "outputs": [
    {
     "name": "stdout",
     "output_type": "stream",
     "text": [
      "The r-squared value is: 0.03005599917102961\n"
     ]
    },
    {
     "data": {
      "image/png": "[encoded data removed]",
      "text/plain": [
       "<Figure size 432x288 with 1 Axes>"
      ]
     },
     "metadata": {
      "needs_background": "light"
     },
     "output_type": "display_data"
    }
   ],
   "source": [
    "x_values = south_hemi_df['Lat']\n",
    "y_values = south_hemi_df['Cloudiness']\n",
    "(slope, intercept, rvalue, pvalue, stderr) = linregress(x_values, y_values)\n",
    "regress_values = x_values * slope + intercept\n",
    "line_eq = \"y = \" + str(round(slope,2)) + \"x + \" + str(round(intercept,2))\n",
    "plt.scatter(x_values,y_values)\n",
    "plt.plot(x_values,regress_values,\"r-\")\n",
    "plt.annotate(line_eq,(15,45),fontsize=10,color=\"red\")\n",
    "plt.ylabel('Cloudiness')\n",
    "plt.xlabel('Latitude')\n",
    "print(f\"The r-squared value is: {rvalue**2}\")\n",
    "plt.show()"
   ]
  },
  {
   "cell_type": "code",
   "execution_count": null,
   "metadata": {},
   "outputs": [],
   "source": [
    "#There is a very weak positive correlation between latitude and humidity in the south hemisphere "
   ]
  },
  {
   "cell_type": "markdown",
   "metadata": {},
   "source": [
    "####  Northern Hemisphere - Wind Speed (mph) vs. Latitude Linear Regression"
   ]
  },
  {
   "cell_type": "code",
   "execution_count": 27,
   "metadata": {},
   "outputs": [
    {
     "name": "stdout",
     "output_type": "stream",
     "text": [
      "The r-squared value is: 0.0029437222527283306\n"
     ]
    },
    {
     "data": {
      "image/png": "[encoded data removed]",
      "text/plain": [
       "<Figure size 432x288 with 1 Axes>"
      ]
     },
     "metadata": {
      "needs_background": "light"
     },
     "output_type": "display_data"
    }
   ],
   "source": [
    "x_values = north_hemi_df['Lat']\n",
    "y_values = north_hemi_df['Wind Speed']\n",
    "(slope, intercept, rvalue, pvalue, stderr) = linregress(x_values, y_values)\n",
    "regress_values = x_values * slope + intercept\n",
    "line_eq = \"y = \" + str(round(slope,2)) + \"x + \" + str(round(intercept,2))\n",
    "plt.scatter(x_values,y_values)\n",
    "plt.plot(x_values,regress_values,\"r-\")\n",
    "plt.annotate(line_eq,(15,45),fontsize=10,color=\"red\")\n",
    "plt.ylabel('Wind Speed')\n",
    "plt.xlabel('Latitude')\n",
    "print(f\"The r-squared value is: {rvalue**2}\")\n",
    "plt.show()"
   ]
  },
  {
   "cell_type": "code",
   "execution_count": null,
   "metadata": {},
   "outputs": [],
   "source": [
    "#There is a very weak negative correlation between latitude and humidity in the north hemisphere \n",
    "#The data is more clustered in the lower wind speeds"
   ]
  },
  {
   "cell_type": "markdown",
   "metadata": {},
   "source": [
    "####  Southern Hemisphere - Wind Speed (mph) vs. Latitude Linear Regression"
   ]
  },
  {
   "cell_type": "code",
   "execution_count": 28,
   "metadata": {},
   "outputs": [
    {
     "name": "stdout",
     "output_type": "stream",
     "text": [
      "The r-squared value is: 0.05585426010289836\n"
     ]
    },
    {
     "data": {
      "image/png": "[encoded data removed]",
      "text/plain": [
       "<Figure size 432x288 with 1 Axes>"
      ]
     },
     "metadata": {
      "needs_background": "light"
     },
     "output_type": "display_data"
    }
   ],
   "source": [
    "x_values = south_hemi_df['Lat']\n",
    "y_values = south_hemi_df['Wind Speed']\n",
    "(slope, intercept, rvalue, pvalue, stderr) = linregress(x_values, y_values)\n",
    "regress_values = x_values * slope + intercept\n",
    "line_eq = \"y = \" + str(round(slope,2)) + \"x + \" + str(round(intercept,2))\n",
    "plt.scatter(x_values,y_values)\n",
    "plt.plot(x_values,regress_values,\"r-\")\n",
    "plt.annotate(line_eq,(15,45),fontsize=10,color=\"red\")\n",
    "plt.ylabel('Wind Speed')\n",
    "plt.xlabel('Latitude')\n",
    "print(f\"The r-squared value is: {rvalue**2}\")\n",
    "plt.show()"
   ]
  },
  {
   "cell_type": "code",
   "execution_count": null,
   "metadata": {},
   "outputs": [],
   "source": [
    "#There is a negative correlation between latitude and humidity in the south hemisphere \n",
    "#The data is more clustered in the more positive latitudes "
   ]
  },
  {
   "cell_type": "code",
   "execution_count": null,
   "metadata": {},
   "outputs": [],
   "source": []
  }
 ],
 "metadata": {
  "anaconda-cloud": {},
  "kernel_info": {
   "name": "python3"
  },
  "kernelspec": {
   "display_name": "Python 3 (ipykernel)",
   "language": "python",
   "name": "python3"
  },
  "language_info": {
   "codemirror_mode": {
    "name": "ipython",
    "version": 3
   },
   "file_extension": ".py",
   "mimetype": "text/x-python",
   "name": "python",
   "nbconvert_exporter": "python",
   "pygments_lexer": "ipython3",
   "version": "3.9.7"
  },
  "latex_envs": {
   "LaTeX_envs_menu_present": true,
   "autoclose": false,
   "autocomplete": true,
   "bibliofile": "biblio.bib",
   "cite_by": "apalike",
   "current_citInitial": 1,
   "eqLabelWithNumbers": true,
   "eqNumInitial": 1,
   "hotkeys": {
    "equation": "Ctrl-E",
    "itemize": "Ctrl-I"
   },
   "labels_anchors": false,
   "latex_user_defs": false,
   "report_style_numbering": false,
   "user_envs_cfg": false
  },
  "nteract": {
   "version": "0.12.3"
  }
 },
 "nbformat": 4,
 "nbformat_minor": 2
}

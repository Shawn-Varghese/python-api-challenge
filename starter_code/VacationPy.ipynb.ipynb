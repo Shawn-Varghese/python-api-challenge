{
 "cells": [
  {
   "cell_type": "markdown",
   "metadata": {},
   "source": [
    "# VacationPy\n",
    "----\n",
    "\n",
    "#### Note\n",
    "* Keep an eye on your API usage. Use https://developers.google.com/maps/reporting/gmp-reporting as reference for how to monitor your usage and billing.\n",
    "\n",
    "* Instructions have been included for each segment. You do not have to follow them exactly, but they are included to help you think through the steps."
   ]
  },
  {
   "cell_type": "code",
   "execution_count": 6,
   "metadata": {},
   "outputs": [],
   "source": [
    "# Dependencies and Setup\n",
    "import matplotlib.pyplot as plt\n",
    "import pandas as pd\n",
    "import numpy as np\n",
    "import requests\n",
    "import gmaps\n",
    "import os\n",
    "\n",
    "# Import API key\n",
    "from api_keys import g_key"
   ]
  },
  {
   "cell_type": "code",
   "execution_count": null,
   "metadata": {},
   "outputs": [],
   "source": [
    "!pip install gmaps"
   ]
  },
  {
   "cell_type": "code",
   "execution_count": null,
   "metadata": {},
   "outputs": [],
   "source": [
    "#print(g_key)"
   ]
  },
  {
   "cell_type": "markdown",
   "metadata": {},
   "source": [
    "### Store Part I results into DataFrame\n",
    "* Load the csv exported in Part I to a DataFrame"
   ]
  },
  {
   "cell_type": "code",
   "execution_count": 5,
   "metadata": {},
   "outputs": [
    {
     "name": "stdout",
     "output_type": "stream",
     "text": [
      "<class 'pandas.core.frame.DataFrame'>\n",
      "RangeIndex: 548 entries, 0 to 547\n",
      "Data columns (total 10 columns):\n",
      " #   Column      Non-Null Count  Dtype  \n",
      "---  ------      --------------  -----  \n",
      " 0   City_ID     548 non-null    int64  \n",
      " 1   City        548 non-null    object \n",
      " 2   Cloudiness  548 non-null    int64  \n",
      " 3   Country     544 non-null    object \n",
      " 4   Date        548 non-null    int64  \n",
      " 5   Humidity    548 non-null    int64  \n",
      " 6   Lat         548 non-null    float64\n",
      " 7   Lng         548 non-null    float64\n",
      " 8   Max Temp    548 non-null    float64\n",
      " 9   Wind Speed  548 non-null    float64\n",
      "dtypes: float64(4), int64(4), object(2)\n",
      "memory usage: 42.9+ KB\n"
     ]
    }
   ],
   "source": [
    "output_data = pd.read_csv('../output_data/cities.csv')\n",
    "output_data\n",
    "#output_data.info()"
   ]
  },
  {
   "cell_type": "markdown",
   "metadata": {},
   "source": [
    "### Humidity Heatmap\n",
    "* Configure gmaps.\n",
    "* Use the Lat and Lng as locations and Humidity as the weight.\n",
    "* Add Heatmap layer to map."
   ]
  },
  {
   "cell_type": "code",
   "execution_count": 7,
   "metadata": {},
   "outputs": [],
   "source": [
    "# Configure gmaps\n",
    "gmaps.configure(api_key=g_key)"
   ]
  },
  {
   "cell_type": "code",
   "execution_count": 10,
   "metadata": {},
   "outputs": [
    {
     "data": {
      "application/vnd.jupyter.widget-view+json": {
       "model_id": "052488aed278412d8470d6c755b56789",
       "version_major": 2,
       "version_minor": 0
      },
      "text/plain": [
       "Figure(layout=FigureLayout(height='420px'))"
      ]
     },
     "metadata": {},
     "output_type": "display_data"
    }
   ],
   "source": [
    "#Use the Lat and Lng as locations and Humidity as the weight.\n",
    "output_data = output_data.dropna()\n",
    "locations = output_data[[\"Lat\",\"Lng\"]].astype(float)\n",
    "weight = output_data[\"Humidity\"].astype(float)\n",
    "\n",
    "# Plot Heatmap\n",
    "fig = gmaps.figure()\n",
    "\n",
    "# Create heat layer\n",
    "heat_layer = gmaps.heatmap_layer(locations=locations, weights=weight, \n",
    "                                 dissipating=False, max_intensity=10,\n",
    "                                 point_radius=1)\n",
    "# Add the layer\n",
    "fig.add_layer(heat_layer)\n",
    "\n",
    "# show figure\n",
    "fig"
   ]
  },
  {
   "cell_type": "markdown",
   "metadata": {},
   "source": [
    "### Create new DataFrame fitting weather criteria\n",
    "* Narrow down the cities to fit weather conditions.\n",
    "* Drop any rows will null values."
   ]
  },
  {
   "cell_type": "code",
   "execution_count": 13,
   "metadata": {},
   "outputs": [
    {
     "data": {
      "text/plain": [
       "<bound method NDFrame.head of      City_ID               City  Cloudiness Country        Date  Humidity  \\\n",
       "9          9  pushkinskiye gory           6      RU  1558378756        70   \n",
       "22        22              ambon          11      FR  1558378758        93   \n",
       "37        37            varhaug           0      NO  1558378761        63   \n",
       "48        48        port alfred          67      ZA  1558378763        69   \n",
       "69        69            fortuna          20      ES  1558378767        77   \n",
       "..       ...                ...         ...     ...         ...       ...   \n",
       "514      514             loikaw         100      MM  1558378892        85   \n",
       "522      522          raudeberg          20      NO  1558378894        76   \n",
       "533      533            hakkari           0      FI  1558378896        46   \n",
       "538      538   la seyne-sur-mer           0      FR  1558378897        72   \n",
       "545      545            veraval           0      FR  1558378898        62   \n",
       "\n",
       "       Lat    Lng  Max Temp  Wind Speed  \n",
       "9    57.02  28.91     65.04        6.93  \n",
       "22   47.55  -2.56     64.99        5.82  \n",
       "37   58.61   5.65     64.99        8.05  \n",
       "48  -33.59  26.89     61.00        8.01  \n",
       "69   38.18  -1.13     69.80        4.70  \n",
       "..     ...    ...       ...         ...  \n",
       "514  19.67  97.21     69.18        3.40  \n",
       "522  61.99   5.14     69.80        4.70  \n",
       "533  61.34  23.75     69.80        5.82  \n",
       "538  43.10   5.88     69.01        2.24  \n",
       "545  49.65   0.71     61.00        8.05  \n",
       "\n",
       "[71 rows x 10 columns]>"
      ]
     },
     "execution_count": 13,
     "metadata": {},
     "output_type": "execute_result"
    }
   ],
   "source": [
    "perfectcity_df= output_data.loc[(output_data['Max Temp']<70)&(output_data['Max Temp']>60)&(output_data['Wind Speed']<10)&(output_data['Cloudiness']!=5)].dropna()\n",
    "perfectcity_df.head"
   ]
  },
  {
   "cell_type": "markdown",
   "metadata": {},
   "source": [
    "### Hotel Map\n",
    "* Store into variable named `hotel_df`.\n",
    "* Add a \"Hotel Name\" column to the DataFrame.\n",
    "* Set parameters to search for hotels with 5000 meters.\n",
    "* Hit the Google Places API for each city's coordinates.\n",
    "* Store the first Hotel result into the DataFrame.\n",
    "* Plot markers on top of the heatmap."
   ]
  },
  {
   "cell_type": "code",
   "execution_count": 16,
   "metadata": {},
   "outputs": [
    {
     "data": {
      "text/html": [
       "<div>\n",
       "<style scoped>\n",
       "    .dataframe tbody tr th:only-of-type {\n",
       "        vertical-align: middle;\n",
       "    }\n",
       "\n",
       "    .dataframe tbody tr th {\n",
       "        vertical-align: top;\n",
       "    }\n",
       "\n",
       "    .dataframe thead th {\n",
       "        text-align: right;\n",
       "    }\n",
       "</style>\n",
       "<table border=\"1\" class=\"dataframe\">\n",
       "  <thead>\n",
       "    <tr style=\"text-align: right;\">\n",
       "      <th></th>\n",
       "      <th>City</th>\n",
       "      <th>Country</th>\n",
       "      <th>Lat</th>\n",
       "      <th>Lng</th>\n",
       "      <th>Hotel Name</th>\n",
       "    </tr>\n",
       "  </thead>\n",
       "  <tbody>\n",
       "    <tr>\n",
       "      <th>9</th>\n",
       "      <td>pushkinskiye gory</td>\n",
       "      <td>RU</td>\n",
       "      <td>57.02</td>\n",
       "      <td>28.91</td>\n",
       "      <td></td>\n",
       "    </tr>\n",
       "    <tr>\n",
       "      <th>22</th>\n",
       "      <td>ambon</td>\n",
       "      <td>FR</td>\n",
       "      <td>47.55</td>\n",
       "      <td>-2.56</td>\n",
       "      <td></td>\n",
       "    </tr>\n",
       "    <tr>\n",
       "      <th>37</th>\n",
       "      <td>varhaug</td>\n",
       "      <td>NO</td>\n",
       "      <td>58.61</td>\n",
       "      <td>5.65</td>\n",
       "      <td></td>\n",
       "    </tr>\n",
       "    <tr>\n",
       "      <th>48</th>\n",
       "      <td>port alfred</td>\n",
       "      <td>ZA</td>\n",
       "      <td>-33.59</td>\n",
       "      <td>26.89</td>\n",
       "      <td></td>\n",
       "    </tr>\n",
       "    <tr>\n",
       "      <th>69</th>\n",
       "      <td>fortuna</td>\n",
       "      <td>ES</td>\n",
       "      <td>38.18</td>\n",
       "      <td>-1.13</td>\n",
       "      <td></td>\n",
       "    </tr>\n",
       "    <tr>\n",
       "      <th>...</th>\n",
       "      <td>...</td>\n",
       "      <td>...</td>\n",
       "      <td>...</td>\n",
       "      <td>...</td>\n",
       "      <td>...</td>\n",
       "    </tr>\n",
       "    <tr>\n",
       "      <th>514</th>\n",
       "      <td>loikaw</td>\n",
       "      <td>MM</td>\n",
       "      <td>19.67</td>\n",
       "      <td>97.21</td>\n",
       "      <td></td>\n",
       "    </tr>\n",
       "    <tr>\n",
       "      <th>522</th>\n",
       "      <td>raudeberg</td>\n",
       "      <td>NO</td>\n",
       "      <td>61.99</td>\n",
       "      <td>5.14</td>\n",
       "      <td></td>\n",
       "    </tr>\n",
       "    <tr>\n",
       "      <th>533</th>\n",
       "      <td>hakkari</td>\n",
       "      <td>FI</td>\n",
       "      <td>61.34</td>\n",
       "      <td>23.75</td>\n",
       "      <td></td>\n",
       "    </tr>\n",
       "    <tr>\n",
       "      <th>538</th>\n",
       "      <td>la seyne-sur-mer</td>\n",
       "      <td>FR</td>\n",
       "      <td>43.10</td>\n",
       "      <td>5.88</td>\n",
       "      <td></td>\n",
       "    </tr>\n",
       "    <tr>\n",
       "      <th>545</th>\n",
       "      <td>veraval</td>\n",
       "      <td>FR</td>\n",
       "      <td>49.65</td>\n",
       "      <td>0.71</td>\n",
       "      <td></td>\n",
       "    </tr>\n",
       "  </tbody>\n",
       "</table>\n",
       "<p>71 rows × 5 columns</p>\n",
       "</div>"
      ],
      "text/plain": [
       "                  City Country    Lat    Lng Hotel Name\n",
       "9    pushkinskiye gory      RU  57.02  28.91           \n",
       "22               ambon      FR  47.55  -2.56           \n",
       "37             varhaug      NO  58.61   5.65           \n",
       "48         port alfred      ZA -33.59  26.89           \n",
       "69             fortuna      ES  38.18  -1.13           \n",
       "..                 ...     ...    ...    ...        ...\n",
       "514             loikaw      MM  19.67  97.21           \n",
       "522          raudeberg      NO  61.99   5.14           \n",
       "533            hakkari      FI  61.34  23.75           \n",
       "538   la seyne-sur-mer      FR  43.10   5.88           \n",
       "545            veraval      FR  49.65   0.71           \n",
       "\n",
       "[71 rows x 5 columns]"
      ]
     },
     "execution_count": 16,
     "metadata": {},
     "output_type": "execute_result"
    }
   ],
   "source": [
    "#Set df\n",
    "hotel_df= perfectcity_df[['City', 'Country', 'Lat', 'Lng']].copy()\n",
    "hotel_df[\"Hotel Name\"]= ''\n",
    "hotel_df"
   ]
  },
  {
   "cell_type": "code",
   "execution_count": 17,
   "metadata": {},
   "outputs": [
    {
     "name": "stdout",
     "output_type": "stream",
     "text": [
      "no data 4 u\n",
      "no data 4 u\n"
     ]
    },
    {
     "data": {
      "text/html": [
       "<div>\n",
       "<style scoped>\n",
       "    .dataframe tbody tr th:only-of-type {\n",
       "        vertical-align: middle;\n",
       "    }\n",
       "\n",
       "    .dataframe tbody tr th {\n",
       "        vertical-align: top;\n",
       "    }\n",
       "\n",
       "    .dataframe thead th {\n",
       "        text-align: right;\n",
       "    }\n",
       "</style>\n",
       "<table border=\"1\" class=\"dataframe\">\n",
       "  <thead>\n",
       "    <tr style=\"text-align: right;\">\n",
       "      <th></th>\n",
       "      <th>City</th>\n",
       "      <th>Country</th>\n",
       "      <th>Lat</th>\n",
       "      <th>Lng</th>\n",
       "      <th>Hotel Name</th>\n",
       "    </tr>\n",
       "  </thead>\n",
       "  <tbody>\n",
       "    <tr>\n",
       "      <th>9</th>\n",
       "      <td>pushkinskiye gory</td>\n",
       "      <td>RU</td>\n",
       "      <td>57.02</td>\n",
       "      <td>28.91</td>\n",
       "      <td>The recreation center \"Pushkinogorye\"</td>\n",
       "    </tr>\n",
       "    <tr>\n",
       "      <th>22</th>\n",
       "      <td>ambon</td>\n",
       "      <td>FR</td>\n",
       "      <td>47.55</td>\n",
       "      <td>-2.56</td>\n",
       "      <td>Hotel de la Plage - Damgan - Morbihan - Bretagne</td>\n",
       "    </tr>\n",
       "    <tr>\n",
       "      <th>37</th>\n",
       "      <td>varhaug</td>\n",
       "      <td>NO</td>\n",
       "      <td>58.61</td>\n",
       "      <td>5.65</td>\n",
       "      <td>Jonas Bue</td>\n",
       "    </tr>\n",
       "    <tr>\n",
       "      <th>48</th>\n",
       "      <td>port alfred</td>\n",
       "      <td>ZA</td>\n",
       "      <td>-33.59</td>\n",
       "      <td>26.89</td>\n",
       "      <td>The Halyards Hotel</td>\n",
       "    </tr>\n",
       "    <tr>\n",
       "      <th>69</th>\n",
       "      <td>fortuna</td>\n",
       "      <td>ES</td>\n",
       "      <td>38.18</td>\n",
       "      <td>-1.13</td>\n",
       "      <td>Balneario de Leana</td>\n",
       "    </tr>\n",
       "  </tbody>\n",
       "</table>\n",
       "</div>"
      ],
      "text/plain": [
       "                 City Country    Lat    Lng  \\\n",
       "9   pushkinskiye gory      RU  57.02  28.91   \n",
       "22              ambon      FR  47.55  -2.56   \n",
       "37            varhaug      NO  58.61   5.65   \n",
       "48        port alfred      ZA -33.59  26.89   \n",
       "69            fortuna      ES  38.18  -1.13   \n",
       "\n",
       "                                          Hotel Name  \n",
       "9              The recreation center \"Pushkinogorye\"  \n",
       "22  Hotel de la Plage - Damgan - Morbihan - Bretagne  \n",
       "37                                         Jonas Bue  \n",
       "48                                The Halyards Hotel  \n",
       "69                                Balneario de Leana  "
      ]
     },
     "execution_count": 17,
     "metadata": {},
     "output_type": "execute_result"
    }
   ],
   "source": [
    "# set up a parameters dictionary\n",
    "params = {\n",
    "    \"radius\": 5000,\n",
    "    \"type\": 'lodging',\n",
    "    \"key\": g_key\n",
    "}\n",
    "for index, row in hotel_df.iterrows():\n",
    "    lat= row['Lat']\n",
    "    lng= row['Lng']\n",
    "    params['location']= f'{lat}, {lng}'\n",
    "    \n",
    "# base url\n",
    "    base_url = \"https://maps.googleapis.com/maps/api/place/nearbysearch/json\"\n",
    "    \n",
    "# run request using the params dictionary above \n",
    "    response = requests.get(base_url, params=params)\n",
    "    address = response.json()\n",
    "    \n",
    "    try:\n",
    "        hotel_df.loc[index, 'Hotel Name']= address['results'][0]['name']\n",
    "    except:\n",
    "         print(\"no data 4 u\")\n",
    "\n",
    "hotel_df.head"
   ]
  },
  {
   "cell_type": "code",
   "execution_count": null,
   "metadata": {},
   "outputs": [],
   "source": []
  },
  {
   "cell_type": "code",
   "execution_count": 19,
   "metadata": {},
   "outputs": [],
   "source": [
    "# NOTE: Do not change any of the code in this cell\n",
    "\n",
    "# Using the template add the hotel marks to the heatmap\n",
    "info_box_template = \"\"\"\n",
    "<dl>\n",
    "<dt>Name</dt><dd>{Hotel Name}</dd>\n",
    "<dt>City</dt><dd>{City}</dd>\n",
    "<dt>Country</dt><dd>{Country}</dd>\n",
    "</dl>\n",
    "\"\"\"\n",
    "# Store the DataFrame Row\n",
    "# NOTE: be sure to update with your DataFrame name\n",
    "hotel_info = [info_box_template.format(**row) for index, row in hotel_df.iterrows()]\n",
    "locations = hotel_df[[\"Lat\", \"Lng\"]]"
   ]
  },
  {
   "cell_type": "code",
   "execution_count": 20,
   "metadata": {},
   "outputs": [
    {
     "data": {
      "application/vnd.jupyter.widget-view+json": {
       "model_id": "052488aed278412d8470d6c755b56789",
       "version_major": 2,
       "version_minor": 0
      },
      "text/plain": [
       "Figure(layout=FigureLayout(height='420px'))"
      ]
     },
     "metadata": {},
     "output_type": "display_data"
    }
   ],
   "source": [
    "# Add marker layer ontop of heat map\n",
    "marker_layer = gmaps.marker_layer(locations, info_box_content=hotel_info)\n",
    "fig.add_layer(marker_layer)\n",
    "# Display figure\n",
    "fig"
   ]
  },
  {
   "cell_type": "code",
   "execution_count": null,
   "metadata": {},
   "outputs": [],
   "source": []
  }
 ],
 "metadata": {
  "kernelspec": {
   "display_name": "Python 3 (ipykernel)",
   "language": "python",
   "name": "python3"
  },
  "language_info": {
   "codemirror_mode": {
    "name": "ipython",
    "version": 3
   },
   "file_extension": ".py",
   "mimetype": "text/x-python",
   "name": "python",
   "nbconvert_exporter": "python",
   "pygments_lexer": "ipython3",
   "version": "3.9.7"
  },
  "latex_envs": {
   "LaTeX_envs_menu_present": true,
   "autoclose": false,
   "autocomplete": true,
   "bibliofile": "biblio.bib",
   "cite_by": "apalike",
   "current_citInitial": 1,
   "eqLabelWithNumbers": true,
   "eqNumInitial": 1,
   "hotkeys": {
    "equation": "Ctrl-E",
    "itemize": "Ctrl-I"
   },
   "labels_anchors": false,
   "latex_user_defs": false,
   "report_style_numbering": false,
   "user_envs_cfg": false
  }
 },
 "nbformat": 4,
 "nbformat_minor": 4
}
